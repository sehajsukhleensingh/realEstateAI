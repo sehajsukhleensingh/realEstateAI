{
 "cells": [
  {
   "cell_type": "code",
   "execution_count": 1,
   "id": "aa435dd8-5248-4a40-979d-5a373abcabd6",
   "metadata": {},
   "outputs": [],
   "source": [
    "import pandas as pd\n",
    "import numpy as np\n",
    "import matplotlib.pyplot as plt \n",
    "import seaborn as sns"
   ]
  },
  {
   "cell_type": "code",
   "execution_count": 2,
   "id": "841350f5-45e2-4bde-8165-777f0e5e69ac",
   "metadata": {},
   "outputs": [],
   "source": [
    "pd.set_option('display.max_rows',None)\n",
    "pd.set_option('display.max_columns',None)"
   ]
  },
  {
   "cell_type": "code",
   "execution_count": 3,
   "id": "6ae0acb1-80bf-4e56-879d-993a14712159",
   "metadata": {},
   "outputs": [],
   "source": [
    "dt = pd.read_csv('properties-cleaned-v4.csv')"
   ]
  },
  {
   "cell_type": "code",
   "execution_count": 4,
   "id": "5d2601a9-07ba-4aed-a880-fdaed5bbc7fd",
   "metadata": {},
   "outputs": [
    {
     "data": {
      "text/html": [
       "<div>\n",
       "<style scoped>\n",
       "    .dataframe tbody tr th:only-of-type {\n",
       "        vertical-align: middle;\n",
       "    }\n",
       "\n",
       "    .dataframe tbody tr th {\n",
       "        vertical-align: top;\n",
       "    }\n",
       "\n",
       "    .dataframe thead th {\n",
       "        text-align: right;\n",
       "    }\n",
       "</style>\n",
       "<table border=\"1\" class=\"dataframe\">\n",
       "  <thead>\n",
       "    <tr style=\"text-align: right;\">\n",
       "      <th></th>\n",
       "      <th>society</th>\n",
       "      <th>price</th>\n",
       "      <th>sector</th>\n",
       "      <th>pricePerSqft</th>\n",
       "      <th>propertyType</th>\n",
       "      <th>area</th>\n",
       "      <th>superbuilt</th>\n",
       "      <th>carpet</th>\n",
       "      <th>builtup</th>\n",
       "      <th>bedRooms</th>\n",
       "      <th>bathRooms</th>\n",
       "      <th>address</th>\n",
       "      <th>floorNum</th>\n",
       "      <th>facing</th>\n",
       "      <th>agePossesion</th>\n",
       "      <th>balcony</th>\n",
       "      <th>pooja room</th>\n",
       "      <th>servant room</th>\n",
       "      <th>study room</th>\n",
       "      <th>others</th>\n",
       "      <th>store room</th>\n",
       "      <th>furnishType</th>\n",
       "      <th>luxuryScore</th>\n",
       "      <th>areaToBedRatio</th>\n",
       "    </tr>\n",
       "  </thead>\n",
       "  <tbody>\n",
       "    <tr>\n",
       "      <th>912</th>\n",
       "      <td>parsvnath exotica, sector 53, gurgaon</td>\n",
       "      <td>12.00</td>\n",
       "      <td>sector 53</td>\n",
       "      <td>28571.43</td>\n",
       "      <td>house</td>\n",
       "      <td>4200.00</td>\n",
       "      <td>5460.00</td>\n",
       "      <td>3570.000</td>\n",
       "      <td>4200.000</td>\n",
       "      <td>4.0</td>\n",
       "      <td>5.0</td>\n",
       "      <td>parsvnath exotica, sector 53, gurgaon</td>\n",
       "      <td>2.0</td>\n",
       "      <td>north</td>\n",
       "      <td>relatively new property</td>\n",
       "      <td>3+</td>\n",
       "      <td>1</td>\n",
       "      <td>1</td>\n",
       "      <td>1</td>\n",
       "      <td>0</td>\n",
       "      <td>1</td>\n",
       "      <td>0</td>\n",
       "      <td>207</td>\n",
       "      <td>1050.000000</td>\n",
       "    </tr>\n",
       "    <tr>\n",
       "      <th>1910</th>\n",
       "      <td>signature global grand iva</td>\n",
       "      <td>0.91</td>\n",
       "      <td>sector 103</td>\n",
       "      <td>14118.60</td>\n",
       "      <td>flat</td>\n",
       "      <td>644.54</td>\n",
       "      <td>644.54</td>\n",
       "      <td>418.951</td>\n",
       "      <td>515.632</td>\n",
       "      <td>3.0</td>\n",
       "      <td>2.0</td>\n",
       "      <td>Signature Global Grand IVA Sector 103, Gurgaon</td>\n",
       "      <td>10.0</td>\n",
       "      <td>na</td>\n",
       "      <td>relatively new property</td>\n",
       "      <td>NaN</td>\n",
       "      <td>0</td>\n",
       "      <td>0</td>\n",
       "      <td>0</td>\n",
       "      <td>0</td>\n",
       "      <td>0</td>\n",
       "      <td>2</td>\n",
       "      <td>39</td>\n",
       "      <td>214.846667</td>\n",
       "    </tr>\n",
       "  </tbody>\n",
       "</table>\n",
       "</div>"
      ],
      "text/plain": [
       "                                      society  price      sector  \\\n",
       "912     parsvnath exotica, sector 53, gurgaon  12.00   sector 53   \n",
       "1910               signature global grand iva   0.91  sector 103   \n",
       "\n",
       "      pricePerSqft propertyType     area  superbuilt    carpet   builtup  \\\n",
       "912       28571.43        house  4200.00     5460.00  3570.000  4200.000   \n",
       "1910      14118.60         flat   644.54      644.54   418.951   515.632   \n",
       "\n",
       "      bedRooms  bathRooms                                         address  \\\n",
       "912        4.0        5.0           parsvnath exotica, sector 53, gurgaon   \n",
       "1910       3.0        2.0  Signature Global Grand IVA Sector 103, Gurgaon   \n",
       "\n",
       "      floorNum facing             agePossesion balcony  pooja room  \\\n",
       "912        2.0  north  relatively new property      3+           1   \n",
       "1910      10.0     na  relatively new property     NaN           0   \n",
       "\n",
       "      servant room  study room  others  store room  furnishType  luxuryScore  \\\n",
       "912              1           1       0           1            0          207   \n",
       "1910             0           0       0           0            2           39   \n",
       "\n",
       "      areaToBedRatio  \n",
       "912      1050.000000  \n",
       "1910      214.846667  "
      ]
     },
     "execution_count": 4,
     "metadata": {},
     "output_type": "execute_result"
    }
   ],
   "source": [
    "dt.sample(2)"
   ]
  },
  {
   "cell_type": "code",
   "execution_count": 9,
   "id": "ec517338-fc6e-4150-ac38-d1020accaf98",
   "metadata": {},
   "outputs": [
    {
     "data": {
      "text/plain": [
       "society              0\n",
       "price                0\n",
       "sector               0\n",
       "pricePerSqft      1235\n",
       "propertyType         0\n",
       "area              1235\n",
       "superbuilt        1235\n",
       "carpet            1235\n",
       "builtup           1235\n",
       "bedRooms             0\n",
       "bathRooms            0\n",
       "address              0\n",
       "floorNum            12\n",
       "facing               0\n",
       "agePossesion         0\n",
       "balcony           2116\n",
       "pooja room           0\n",
       "servant room         0\n",
       "study room           0\n",
       "others               0\n",
       "store room           0\n",
       "furnishType          0\n",
       "luxuryScore          0\n",
       "areaToBedRatio    1235\n",
       "dtype: int64"
      ]
     },
     "execution_count": 9,
     "metadata": {},
     "output_type": "execute_result"
    }
   ],
   "source": [
    "dt.isnull().sum()"
   ]
  },
  {
   "cell_type": "markdown",
   "id": "30a98a99-5c06-4010-8e64-b743432c3733",
   "metadata": {},
   "source": [
    "# floorNum"
   ]
  },
  {
   "cell_type": "code",
   "execution_count": 12,
   "id": "a4b01e36-bc67-45cd-82fb-455bb41ed64f",
   "metadata": {},
   "outputs": [
    {
     "data": {
      "text/html": [
       "<div>\n",
       "<style scoped>\n",
       "    .dataframe tbody tr th:only-of-type {\n",
       "        vertical-align: middle;\n",
       "    }\n",
       "\n",
       "    .dataframe tbody tr th {\n",
       "        vertical-align: top;\n",
       "    }\n",
       "\n",
       "    .dataframe thead th {\n",
       "        text-align: right;\n",
       "    }\n",
       "</style>\n",
       "<table border=\"1\" class=\"dataframe\">\n",
       "  <thead>\n",
       "    <tr style=\"text-align: right;\">\n",
       "      <th></th>\n",
       "      <th>society</th>\n",
       "      <th>price</th>\n",
       "      <th>sector</th>\n",
       "      <th>pricePerSqft</th>\n",
       "      <th>propertyType</th>\n",
       "      <th>area</th>\n",
       "      <th>superbuilt</th>\n",
       "      <th>carpet</th>\n",
       "      <th>builtup</th>\n",
       "      <th>bedRooms</th>\n",
       "      <th>bathRooms</th>\n",
       "      <th>address</th>\n",
       "      <th>floorNum</th>\n",
       "      <th>facing</th>\n",
       "      <th>agePossesion</th>\n",
       "      <th>balcony</th>\n",
       "      <th>pooja room</th>\n",
       "      <th>servant room</th>\n",
       "      <th>study room</th>\n",
       "      <th>others</th>\n",
       "      <th>store room</th>\n",
       "      <th>furnishType</th>\n",
       "      <th>luxuryScore</th>\n",
       "      <th>areaToBedRatio</th>\n",
       "    </tr>\n",
       "  </thead>\n",
       "  <tbody>\n",
       "    <tr>\n",
       "      <th>3</th>\n",
       "      <td>nirvana country, gurgaon</td>\n",
       "      <td>10.40</td>\n",
       "      <td>sector 50</td>\n",
       "      <td>NaN</td>\n",
       "      <td>house</td>\n",
       "      <td>NaN</td>\n",
       "      <td>NaN</td>\n",
       "      <td>NaN</td>\n",
       "      <td>NaN</td>\n",
       "      <td>4.0</td>\n",
       "      <td>4.0</td>\n",
       "      <td>nirvana country, gurgaon</td>\n",
       "      <td>NaN</td>\n",
       "      <td>north-east</td>\n",
       "      <td>relatively new property</td>\n",
       "      <td>2</td>\n",
       "      <td>0</td>\n",
       "      <td>1</td>\n",
       "      <td>1</td>\n",
       "      <td>0</td>\n",
       "      <td>0</td>\n",
       "      <td>1</td>\n",
       "      <td>37</td>\n",
       "      <td>NaN</td>\n",
       "    </tr>\n",
       "    <tr>\n",
       "      <th>838</th>\n",
       "      <td>sector 47, gurgaon</td>\n",
       "      <td>2.75</td>\n",
       "      <td>sector 47</td>\n",
       "      <td>NaN</td>\n",
       "      <td>house</td>\n",
       "      <td>NaN</td>\n",
       "      <td>NaN</td>\n",
       "      <td>NaN</td>\n",
       "      <td>NaN</td>\n",
       "      <td>3.0</td>\n",
       "      <td>2.0</td>\n",
       "      <td>sector 47, gurgaon</td>\n",
       "      <td>NaN</td>\n",
       "      <td>north-east</td>\n",
       "      <td>moderatly old property</td>\n",
       "      <td>1</td>\n",
       "      <td>0</td>\n",
       "      <td>0</td>\n",
       "      <td>0</td>\n",
       "      <td>0</td>\n",
       "      <td>0</td>\n",
       "      <td>2</td>\n",
       "      <td>10</td>\n",
       "      <td>NaN</td>\n",
       "    </tr>\n",
       "    <tr>\n",
       "      <th>914</th>\n",
       "      <td>sector 40, gurgaon</td>\n",
       "      <td>3.50</td>\n",
       "      <td>sector 40</td>\n",
       "      <td>NaN</td>\n",
       "      <td>house</td>\n",
       "      <td>NaN</td>\n",
       "      <td>NaN</td>\n",
       "      <td>NaN</td>\n",
       "      <td>NaN</td>\n",
       "      <td>3.0</td>\n",
       "      <td>3.0</td>\n",
       "      <td>sector 40, gurgaon</td>\n",
       "      <td>NaN</td>\n",
       "      <td>north-east</td>\n",
       "      <td>moderatly old property</td>\n",
       "      <td>2</td>\n",
       "      <td>0</td>\n",
       "      <td>0</td>\n",
       "      <td>0</td>\n",
       "      <td>0</td>\n",
       "      <td>0</td>\n",
       "      <td>2</td>\n",
       "      <td>10</td>\n",
       "      <td>NaN</td>\n",
       "    </tr>\n",
       "    <tr>\n",
       "      <th>1436</th>\n",
       "      <td>sector 39, gurgaon</td>\n",
       "      <td>4.60</td>\n",
       "      <td>sector 39</td>\n",
       "      <td>NaN</td>\n",
       "      <td>house</td>\n",
       "      <td>NaN</td>\n",
       "      <td>NaN</td>\n",
       "      <td>NaN</td>\n",
       "      <td>NaN</td>\n",
       "      <td>6.0</td>\n",
       "      <td>5.0</td>\n",
       "      <td>sector 39, gurgaon</td>\n",
       "      <td>NaN</td>\n",
       "      <td>south-west</td>\n",
       "      <td>old property</td>\n",
       "      <td>2</td>\n",
       "      <td>0</td>\n",
       "      <td>0</td>\n",
       "      <td>0</td>\n",
       "      <td>1</td>\n",
       "      <td>0</td>\n",
       "      <td>1</td>\n",
       "      <td>7</td>\n",
       "      <td>NaN</td>\n",
       "    </tr>\n",
       "    <tr>\n",
       "      <th>1562</th>\n",
       "      <td>vipul tatvam villa, sector 48, gurgaon</td>\n",
       "      <td>11.00</td>\n",
       "      <td>sector 48</td>\n",
       "      <td>NaN</td>\n",
       "      <td>house</td>\n",
       "      <td>NaN</td>\n",
       "      <td>NaN</td>\n",
       "      <td>NaN</td>\n",
       "      <td>NaN</td>\n",
       "      <td>4.0</td>\n",
       "      <td>5.0</td>\n",
       "      <td>vipul tatvam villa, sector 48, gurgaon</td>\n",
       "      <td>NaN</td>\n",
       "      <td>na</td>\n",
       "      <td>moderatly old property</td>\n",
       "      <td>3+</td>\n",
       "      <td>1</td>\n",
       "      <td>1</td>\n",
       "      <td>1</td>\n",
       "      <td>0</td>\n",
       "      <td>1</td>\n",
       "      <td>1</td>\n",
       "      <td>207</td>\n",
       "      <td>NaN</td>\n",
       "    </tr>\n",
       "    <tr>\n",
       "      <th>1584</th>\n",
       "      <td>sector 15 part 2, gurgaon</td>\n",
       "      <td>8.25</td>\n",
       "      <td>sector 15</td>\n",
       "      <td>NaN</td>\n",
       "      <td>house</td>\n",
       "      <td>NaN</td>\n",
       "      <td>NaN</td>\n",
       "      <td>NaN</td>\n",
       "      <td>NaN</td>\n",
       "      <td>3.0</td>\n",
       "      <td>3.0</td>\n",
       "      <td>sector 15 part 2, gurgaon</td>\n",
       "      <td>NaN</td>\n",
       "      <td>north-east</td>\n",
       "      <td>relatively new property</td>\n",
       "      <td>2</td>\n",
       "      <td>1</td>\n",
       "      <td>0</td>\n",
       "      <td>0</td>\n",
       "      <td>0</td>\n",
       "      <td>0</td>\n",
       "      <td>1</td>\n",
       "      <td>17</td>\n",
       "      <td>NaN</td>\n",
       "    </tr>\n",
       "    <tr>\n",
       "      <th>2694</th>\n",
       "      <td>part 3 sector 5, gurgaon</td>\n",
       "      <td>3.60</td>\n",
       "      <td>part 3 sector 5</td>\n",
       "      <td>NaN</td>\n",
       "      <td>house</td>\n",
       "      <td>NaN</td>\n",
       "      <td>NaN</td>\n",
       "      <td>NaN</td>\n",
       "      <td>NaN</td>\n",
       "      <td>2.0</td>\n",
       "      <td>2.0</td>\n",
       "      <td>part 3 sector 5, gurgaon</td>\n",
       "      <td>NaN</td>\n",
       "      <td>south-west</td>\n",
       "      <td>old property</td>\n",
       "      <td>2</td>\n",
       "      <td>0</td>\n",
       "      <td>0</td>\n",
       "      <td>0</td>\n",
       "      <td>0</td>\n",
       "      <td>0</td>\n",
       "      <td>2</td>\n",
       "      <td>66</td>\n",
       "      <td>NaN</td>\n",
       "    </tr>\n",
       "    <tr>\n",
       "      <th>2797</th>\n",
       "      <td>vipul tatvam villa, sector 48, gurgaon</td>\n",
       "      <td>10.70</td>\n",
       "      <td>sector 48</td>\n",
       "      <td>NaN</td>\n",
       "      <td>house</td>\n",
       "      <td>NaN</td>\n",
       "      <td>NaN</td>\n",
       "      <td>NaN</td>\n",
       "      <td>NaN</td>\n",
       "      <td>4.0</td>\n",
       "      <td>4.0</td>\n",
       "      <td>vipul tatvam villa, sector 48, gurgaon</td>\n",
       "      <td>NaN</td>\n",
       "      <td>east</td>\n",
       "      <td>old property</td>\n",
       "      <td>3+</td>\n",
       "      <td>0</td>\n",
       "      <td>1</td>\n",
       "      <td>0</td>\n",
       "      <td>0</td>\n",
       "      <td>0</td>\n",
       "      <td>2</td>\n",
       "      <td>185</td>\n",
       "      <td>NaN</td>\n",
       "    </tr>\n",
       "    <tr>\n",
       "      <th>2878</th>\n",
       "      <td>emaar the palm sprgs, sector 54, gurgaon</td>\n",
       "      <td>30.00</td>\n",
       "      <td>sector 54</td>\n",
       "      <td>56603.77</td>\n",
       "      <td>house</td>\n",
       "      <td>5300.0</td>\n",
       "      <td>6890.0</td>\n",
       "      <td>4505.0</td>\n",
       "      <td>5300.0</td>\n",
       "      <td>4.0</td>\n",
       "      <td>4.0</td>\n",
       "      <td>emaar the palm sprgs, sector 54, gurgaon</td>\n",
       "      <td>NaN</td>\n",
       "      <td>na</td>\n",
       "      <td>old property</td>\n",
       "      <td>3+</td>\n",
       "      <td>1</td>\n",
       "      <td>1</td>\n",
       "      <td>1</td>\n",
       "      <td>0</td>\n",
       "      <td>1</td>\n",
       "      <td>1</td>\n",
       "      <td>63</td>\n",
       "      <td>1325.0</td>\n",
       "    </tr>\n",
       "    <tr>\n",
       "      <th>2895</th>\n",
       "      <td>signature global city 37d ph 2, sector 37d, ...</td>\n",
       "      <td>1.80</td>\n",
       "      <td>sector 37</td>\n",
       "      <td>12500.00</td>\n",
       "      <td>house</td>\n",
       "      <td>1440.0</td>\n",
       "      <td>1800.0</td>\n",
       "      <td>1152.0</td>\n",
       "      <td>1440.0</td>\n",
       "      <td>3.0</td>\n",
       "      <td>3.0</td>\n",
       "      <td>signature global city 37d ph 2, sector 37d, ...</td>\n",
       "      <td>NaN</td>\n",
       "      <td>na</td>\n",
       "      <td>new property</td>\n",
       "      <td>2</td>\n",
       "      <td>1</td>\n",
       "      <td>0</td>\n",
       "      <td>0</td>\n",
       "      <td>0</td>\n",
       "      <td>0</td>\n",
       "      <td>2</td>\n",
       "      <td>28</td>\n",
       "      <td>480.0</td>\n",
       "    </tr>\n",
       "    <tr>\n",
       "      <th>3031</th>\n",
       "      <td>rosewood city, gurgaon</td>\n",
       "      <td>17.00</td>\n",
       "      <td>sector 49</td>\n",
       "      <td>25875.19</td>\n",
       "      <td>house</td>\n",
       "      <td>6570.0</td>\n",
       "      <td>8541.0</td>\n",
       "      <td>5584.5</td>\n",
       "      <td>6570.0</td>\n",
       "      <td>5.0</td>\n",
       "      <td>4.0</td>\n",
       "      <td>rosewood city, gurgaon</td>\n",
       "      <td>NaN</td>\n",
       "      <td>na</td>\n",
       "      <td>relatively new property</td>\n",
       "      <td>3</td>\n",
       "      <td>0</td>\n",
       "      <td>0</td>\n",
       "      <td>0</td>\n",
       "      <td>0</td>\n",
       "      <td>0</td>\n",
       "      <td>2</td>\n",
       "      <td>98</td>\n",
       "      <td>1314.0</td>\n",
       "    </tr>\n",
       "    <tr>\n",
       "      <th>3438</th>\n",
       "      <td>nirvana country, gurgaon</td>\n",
       "      <td>15.00</td>\n",
       "      <td>sector 50</td>\n",
       "      <td>NaN</td>\n",
       "      <td>house</td>\n",
       "      <td>NaN</td>\n",
       "      <td>NaN</td>\n",
       "      <td>NaN</td>\n",
       "      <td>NaN</td>\n",
       "      <td>4.0</td>\n",
       "      <td>4.0</td>\n",
       "      <td>nirvana country, gurgaon</td>\n",
       "      <td>NaN</td>\n",
       "      <td>south-east</td>\n",
       "      <td>moderatly old property</td>\n",
       "      <td>3+</td>\n",
       "      <td>1</td>\n",
       "      <td>1</td>\n",
       "      <td>1</td>\n",
       "      <td>0</td>\n",
       "      <td>1</td>\n",
       "      <td>1</td>\n",
       "      <td>170</td>\n",
       "      <td>NaN</td>\n",
       "    </tr>\n",
       "  </tbody>\n",
       "</table>\n",
       "</div>"
      ],
      "text/plain": [
       "                                                society  price  \\\n",
       "3                              nirvana country, gurgaon  10.40   \n",
       "838                                  sector 47, gurgaon   2.75   \n",
       "914                                  sector 40, gurgaon   3.50   \n",
       "1436                                 sector 39, gurgaon   4.60   \n",
       "1562             vipul tatvam villa, sector 48, gurgaon  11.00   \n",
       "1584                          sector 15 part 2, gurgaon   8.25   \n",
       "2694                           part 3 sector 5, gurgaon   3.60   \n",
       "2797             vipul tatvam villa, sector 48, gurgaon  10.70   \n",
       "2878           emaar the palm sprgs, sector 54, gurgaon  30.00   \n",
       "2895    signature global city 37d ph 2, sector 37d, ...   1.80   \n",
       "3031                             rosewood city, gurgaon  17.00   \n",
       "3438                           nirvana country, gurgaon  15.00   \n",
       "\n",
       "               sector  pricePerSqft propertyType    area  superbuilt  carpet  \\\n",
       "3           sector 50           NaN        house     NaN         NaN     NaN   \n",
       "838         sector 47           NaN        house     NaN         NaN     NaN   \n",
       "914         sector 40           NaN        house     NaN         NaN     NaN   \n",
       "1436        sector 39           NaN        house     NaN         NaN     NaN   \n",
       "1562        sector 48           NaN        house     NaN         NaN     NaN   \n",
       "1584        sector 15           NaN        house     NaN         NaN     NaN   \n",
       "2694  part 3 sector 5           NaN        house     NaN         NaN     NaN   \n",
       "2797        sector 48           NaN        house     NaN         NaN     NaN   \n",
       "2878        sector 54      56603.77        house  5300.0      6890.0  4505.0   \n",
       "2895        sector 37      12500.00        house  1440.0      1800.0  1152.0   \n",
       "3031        sector 49      25875.19        house  6570.0      8541.0  5584.5   \n",
       "3438        sector 50           NaN        house     NaN         NaN     NaN   \n",
       "\n",
       "      builtup  bedRooms  bathRooms  \\\n",
       "3         NaN       4.0        4.0   \n",
       "838       NaN       3.0        2.0   \n",
       "914       NaN       3.0        3.0   \n",
       "1436      NaN       6.0        5.0   \n",
       "1562      NaN       4.0        5.0   \n",
       "1584      NaN       3.0        3.0   \n",
       "2694      NaN       2.0        2.0   \n",
       "2797      NaN       4.0        4.0   \n",
       "2878   5300.0       4.0        4.0   \n",
       "2895   1440.0       3.0        3.0   \n",
       "3031   6570.0       5.0        4.0   \n",
       "3438      NaN       4.0        4.0   \n",
       "\n",
       "                                                address  floorNum      facing  \\\n",
       "3                              nirvana country, gurgaon       NaN  north-east   \n",
       "838                                  sector 47, gurgaon       NaN  north-east   \n",
       "914                                  sector 40, gurgaon       NaN  north-east   \n",
       "1436                                 sector 39, gurgaon       NaN  south-west   \n",
       "1562             vipul tatvam villa, sector 48, gurgaon       NaN          na   \n",
       "1584                          sector 15 part 2, gurgaon       NaN  north-east   \n",
       "2694                           part 3 sector 5, gurgaon       NaN  south-west   \n",
       "2797             vipul tatvam villa, sector 48, gurgaon       NaN        east   \n",
       "2878           emaar the palm sprgs, sector 54, gurgaon       NaN          na   \n",
       "2895    signature global city 37d ph 2, sector 37d, ...       NaN          na   \n",
       "3031                             rosewood city, gurgaon       NaN          na   \n",
       "3438                           nirvana country, gurgaon       NaN  south-east   \n",
       "\n",
       "                 agePossesion balcony  pooja room  servant room  study room  \\\n",
       "3     relatively new property       2           0             1           1   \n",
       "838    moderatly old property       1           0             0           0   \n",
       "914    moderatly old property       2           0             0           0   \n",
       "1436             old property       2           0             0           0   \n",
       "1562   moderatly old property      3+           1             1           1   \n",
       "1584  relatively new property       2           1             0           0   \n",
       "2694             old property       2           0             0           0   \n",
       "2797             old property      3+           0             1           0   \n",
       "2878             old property      3+           1             1           1   \n",
       "2895             new property       2           1             0           0   \n",
       "3031  relatively new property       3           0             0           0   \n",
       "3438   moderatly old property      3+           1             1           1   \n",
       "\n",
       "      others  store room  furnishType  luxuryScore  areaToBedRatio  \n",
       "3          0           0            1           37             NaN  \n",
       "838        0           0            2           10             NaN  \n",
       "914        0           0            2           10             NaN  \n",
       "1436       1           0            1            7             NaN  \n",
       "1562       0           1            1          207             NaN  \n",
       "1584       0           0            1           17             NaN  \n",
       "2694       0           0            2           66             NaN  \n",
       "2797       0           0            2          185             NaN  \n",
       "2878       0           1            1           63          1325.0  \n",
       "2895       0           0            2           28           480.0  \n",
       "3031       0           0            2           98          1314.0  \n",
       "3438       0           1            1          170             NaN  "
      ]
     },
     "execution_count": 12,
     "metadata": {},
     "output_type": "execute_result"
    }
   ],
   "source": [
    "dt[dt['floorNum'].isnull()]"
   ]
  },
  {
   "cell_type": "code",
   "execution_count": 14,
   "id": "ce1f802e-c9ec-41a3-aea2-c89f3106001a",
   "metadata": {},
   "outputs": [
    {
     "data": {
      "text/plain": [
       "floorNum    3.0\n",
       "dtype: float64"
      ]
     },
     "execution_count": 14,
     "metadata": {},
     "output_type": "execute_result"
    }
   ],
   "source": [
    "dt[dt['propertyType'] == 'house'][['floorNum']].median()"
   ]
  },
  {
   "cell_type": "code",
   "execution_count": 16,
   "id": "21983624-6371-4929-804b-e95c38cbaee9",
   "metadata": {},
   "outputs": [],
   "source": [
    "# so i will just impute the values with median incase of Nan"
   ]
  },
  {
   "cell_type": "code",
   "execution_count": 18,
   "id": "ed75a9c0-98ce-48e7-8938-3e65e8672b84",
   "metadata": {},
   "outputs": [
    {
     "name": "stderr",
     "output_type": "stream",
     "text": [
      "/var/folders/gy/lt_77nr13fs5zj9y4gdv7v4r0000gn/T/ipykernel_64228/538365032.py:1: FutureWarning: A value is trying to be set on a copy of a DataFrame or Series through chained assignment using an inplace method.\n",
      "The behavior will change in pandas 3.0. This inplace method will never work because the intermediate object on which we are setting values always behaves as a copy.\n",
      "\n",
      "For example, when doing 'df[col].method(value, inplace=True)', try using 'df.method({col: value}, inplace=True)' or df[col] = df[col].method(value) instead, to perform the operation inplace on the original object.\n",
      "\n",
      "\n",
      "  dt['floorNum'].fillna(3.0,inplace = True)\n"
     ]
    }
   ],
   "source": [
    "dt['floorNum'].fillna(3.0,inplace = True)"
   ]
  },
  {
   "cell_type": "code",
   "execution_count": 20,
   "id": "1f583b3e-0dae-478d-a6ba-d3c9d65340b4",
   "metadata": {},
   "outputs": [
    {
     "data": {
      "text/plain": [
       "0"
      ]
     },
     "execution_count": 20,
     "metadata": {},
     "output_type": "execute_result"
    }
   ],
   "source": [
    "dt['floorNum'].isnull().sum()"
   ]
  },
  {
   "cell_type": "markdown",
   "id": "c31e7186-8136-4fb6-83b4-a42a3d7d232f",
   "metadata": {},
   "source": [
    "# balcony"
   ]
  },
  {
   "cell_type": "code",
   "execution_count": 74,
   "id": "03dc1462-960b-4a34-9058-a6e48e035f6f",
   "metadata": {},
   "outputs": [
    {
     "data": {
      "text/plain": [
       "2116"
      ]
     },
     "execution_count": 74,
     "metadata": {},
     "output_type": "execute_result"
    }
   ],
   "source": [
    "dt['balcony'].isnull().sum()"
   ]
  },
  {
   "cell_type": "code",
   "execution_count": 76,
   "id": "64ad30a4-1107-47d9-9986-f81236152263",
   "metadata": {},
   "outputs": [
    {
     "data": {
      "text/html": [
       "<div>\n",
       "<style scoped>\n",
       "    .dataframe tbody tr th:only-of-type {\n",
       "        vertical-align: middle;\n",
       "    }\n",
       "\n",
       "    .dataframe tbody tr th {\n",
       "        vertical-align: top;\n",
       "    }\n",
       "\n",
       "    .dataframe thead th {\n",
       "        text-align: right;\n",
       "    }\n",
       "</style>\n",
       "<table border=\"1\" class=\"dataframe\">\n",
       "  <thead>\n",
       "    <tr style=\"text-align: right;\">\n",
       "      <th></th>\n",
       "      <th>society</th>\n",
       "      <th>price</th>\n",
       "      <th>sector</th>\n",
       "      <th>pricePerSqft</th>\n",
       "      <th>propertyType</th>\n",
       "      <th>area</th>\n",
       "      <th>builtup</th>\n",
       "      <th>bedRooms</th>\n",
       "      <th>bathRooms</th>\n",
       "      <th>address</th>\n",
       "      <th>floorNum</th>\n",
       "      <th>agePossesion</th>\n",
       "      <th>balcony</th>\n",
       "      <th>pooja room</th>\n",
       "      <th>servant room</th>\n",
       "      <th>study room</th>\n",
       "      <th>others</th>\n",
       "      <th>store room</th>\n",
       "      <th>furnishType</th>\n",
       "      <th>luxuryScore</th>\n",
       "    </tr>\n",
       "  </thead>\n",
       "  <tbody>\n",
       "    <tr>\n",
       "      <th>3455</th>\n",
       "      <td>dlf new town heights 2, sector 86, gurgaon</td>\n",
       "      <td>4.65</td>\n",
       "      <td>sector 86</td>\n",
       "      <td>14307.69</td>\n",
       "      <td>house</td>\n",
       "      <td>3250.0</td>\n",
       "      <td>3250.00</td>\n",
       "      <td>4.0</td>\n",
       "      <td>4.0</td>\n",
       "      <td>dlf new town heights 2, sector 86, gurgaon</td>\n",
       "      <td>2.0</td>\n",
       "      <td>moderatly old property</td>\n",
       "      <td>3+</td>\n",
       "      <td>1</td>\n",
       "      <td>1</td>\n",
       "      <td>0</td>\n",
       "      <td>0</td>\n",
       "      <td>0</td>\n",
       "      <td>2</td>\n",
       "      <td>135</td>\n",
       "    </tr>\n",
       "    <tr>\n",
       "      <th>1622</th>\n",
       "      <td>m3m heights</td>\n",
       "      <td>2.50</td>\n",
       "      <td>sector 65</td>\n",
       "      <td>17445.92</td>\n",
       "      <td>flat</td>\n",
       "      <td>1433.0</td>\n",
       "      <td>1074.75</td>\n",
       "      <td>2.0</td>\n",
       "      <td>2.0</td>\n",
       "      <td>M3M Heights Sector 65, Gurgaon</td>\n",
       "      <td>15.0</td>\n",
       "      <td>new property</td>\n",
       "      <td>NaN</td>\n",
       "      <td>0</td>\n",
       "      <td>0</td>\n",
       "      <td>1</td>\n",
       "      <td>0</td>\n",
       "      <td>0</td>\n",
       "      <td>0</td>\n",
       "      <td>221</td>\n",
       "    </tr>\n",
       "    <tr>\n",
       "      <th>2792</th>\n",
       "      <td>ireo skyon</td>\n",
       "      <td>2.85</td>\n",
       "      <td>sector 60</td>\n",
       "      <td>18387.10</td>\n",
       "      <td>flat</td>\n",
       "      <td>1550.0</td>\n",
       "      <td>1162.50</td>\n",
       "      <td>2.0</td>\n",
       "      <td>2.0</td>\n",
       "      <td>Ireo Skyon Sector 60, Gurgaon</td>\n",
       "      <td>12.0</td>\n",
       "      <td>moderatly old property</td>\n",
       "      <td>NaN</td>\n",
       "      <td>0</td>\n",
       "      <td>1</td>\n",
       "      <td>0</td>\n",
       "      <td>0</td>\n",
       "      <td>0</td>\n",
       "      <td>1</td>\n",
       "      <td>221</td>\n",
       "    </tr>\n",
       "    <tr>\n",
       "      <th>2603</th>\n",
       "      <td>south city 1, gurgaon</td>\n",
       "      <td>11.01</td>\n",
       "      <td>sector 41</td>\n",
       "      <td>24417.83</td>\n",
       "      <td>house</td>\n",
       "      <td>4509.0</td>\n",
       "      <td>4509.00</td>\n",
       "      <td>6.0</td>\n",
       "      <td>6.0</td>\n",
       "      <td>south city 1, gurgaon</td>\n",
       "      <td>3.0</td>\n",
       "      <td>moderatly old property</td>\n",
       "      <td>3</td>\n",
       "      <td>1</td>\n",
       "      <td>1</td>\n",
       "      <td>1</td>\n",
       "      <td>0</td>\n",
       "      <td>0</td>\n",
       "      <td>1</td>\n",
       "      <td>112</td>\n",
       "    </tr>\n",
       "    <tr>\n",
       "      <th>1159</th>\n",
       "      <td>brisk lumbi terrace homes</td>\n",
       "      <td>1.80</td>\n",
       "      <td>sector 109</td>\n",
       "      <td>9620.52</td>\n",
       "      <td>flat</td>\n",
       "      <td>1871.0</td>\n",
       "      <td>1496.80</td>\n",
       "      <td>3.0</td>\n",
       "      <td>3.0</td>\n",
       "      <td>Brisk Lumbini Terrace Homes Sector 109, Gurgaon</td>\n",
       "      <td>10.0</td>\n",
       "      <td>relatively new property</td>\n",
       "      <td>NaN</td>\n",
       "      <td>0</td>\n",
       "      <td>0</td>\n",
       "      <td>0</td>\n",
       "      <td>0</td>\n",
       "      <td>0</td>\n",
       "      <td>1</td>\n",
       "      <td>221</td>\n",
       "    </tr>\n",
       "  </tbody>\n",
       "</table>\n",
       "</div>"
      ],
      "text/plain": [
       "                                           society  price      sector  \\\n",
       "3455    dlf new town heights 2, sector 86, gurgaon   4.65   sector 86   \n",
       "1622                                   m3m heights   2.50   sector 65   \n",
       "2792                                    ireo skyon   2.85   sector 60   \n",
       "2603                         south city 1, gurgaon  11.01   sector 41   \n",
       "1159                     brisk lumbi terrace homes   1.80  sector 109   \n",
       "\n",
       "      pricePerSqft propertyType    area  builtup  bedRooms  bathRooms  \\\n",
       "3455      14307.69        house  3250.0  3250.00       4.0        4.0   \n",
       "1622      17445.92         flat  1433.0  1074.75       2.0        2.0   \n",
       "2792      18387.10         flat  1550.0  1162.50       2.0        2.0   \n",
       "2603      24417.83        house  4509.0  4509.00       6.0        6.0   \n",
       "1159       9620.52         flat  1871.0  1496.80       3.0        3.0   \n",
       "\n",
       "                                              address  floorNum  \\\n",
       "3455       dlf new town heights 2, sector 86, gurgaon       2.0   \n",
       "1622                   M3M Heights Sector 65, Gurgaon      15.0   \n",
       "2792                    Ireo Skyon Sector 60, Gurgaon      12.0   \n",
       "2603                            south city 1, gurgaon       3.0   \n",
       "1159  Brisk Lumbini Terrace Homes Sector 109, Gurgaon      10.0   \n",
       "\n",
       "                 agePossesion balcony  pooja room  servant room  study room  \\\n",
       "3455   moderatly old property      3+           1             1           0   \n",
       "1622             new property     NaN           0             0           1   \n",
       "2792   moderatly old property     NaN           0             1           0   \n",
       "2603   moderatly old property       3           1             1           1   \n",
       "1159  relatively new property     NaN           0             0           0   \n",
       "\n",
       "      others  store room  furnishType  luxuryScore  \n",
       "3455       0           0            2          135  \n",
       "1622       0           0            0          221  \n",
       "2792       0           0            1          221  \n",
       "2603       0           0            1          112  \n",
       "1159       0           0            1          221  "
      ]
     },
     "execution_count": 76,
     "metadata": {},
     "output_type": "execute_result"
    }
   ],
   "source": [
    "dt.sample(5)"
   ]
  },
  {
   "cell_type": "code",
   "execution_count": 78,
   "id": "0ed523a0-86cf-4583-9bb7-ac0697909a9e",
   "metadata": {},
   "outputs": [
    {
     "data": {
      "text/plain": [
       "balcony\n",
       "NaN    2116\n",
       "3+      783\n",
       "3       344\n",
       "2       309\n",
       "1        42\n",
       "0        10\n",
       "Name: count, dtype: int64"
      ]
     },
     "execution_count": 78,
     "metadata": {},
     "output_type": "execute_result"
    }
   ],
   "source": [
    "dt['balcony'].value_counts(dropna = False)"
   ]
  },
  {
   "cell_type": "code",
   "execution_count": 80,
   "id": "32dac3b8-7787-49da-8361-df5a3aa12288",
   "metadata": {},
   "outputs": [],
   "source": [
    "# our 60 percent of balocny data is missing \n",
    "# so i will just do a mode based imputation"
   ]
  },
  {
   "cell_type": "code",
   "execution_count": 82,
   "id": "ff0b0446-1bde-48ff-b9be-d0b6b5c34839",
   "metadata": {},
   "outputs": [],
   "source": [
    "import random"
   ]
  },
  {
   "cell_type": "code",
   "execution_count": 104,
   "id": "fd61cc4f-064b-4e79-a0ea-b9966ca385ca",
   "metadata": {},
   "outputs": [],
   "source": [
    "def modeImputation(data,dt):\n",
    "\n",
    "    val1 = dt[dt['propertyType'] == data['propertyType']]['balcony'].mode()\n",
    "    val2 = dt[dt['price'] == data['price']]['balcony'].mode()\n",
    "    val3 = dt[dt['builtup'] == data['builtup']]['balcony'].mode()\n",
    "    \n",
    "    vals = []\n",
    "    if not val1.empty:\n",
    "        vals.append(val1.iloc[0])\n",
    "    if not val2.empty:\n",
    "        vals.append(val2.iloc[0])\n",
    "    if not val3.empty:\n",
    "        vals.append(val3.iloc[0])\n",
    "\n",
    "    if vals:\n",
    "        return random.choice(vals)\n",
    "    else:\n",
    "        # global mode\n",
    "        return dt['balcony'].mode().iloc[0]"
   ]
  },
  {
   "cell_type": "code",
   "execution_count": 106,
   "id": "54629246-4757-4cd5-abca-489d7e273a69",
   "metadata": {},
   "outputs": [],
   "source": [
    "dt.loc[dt['balcony'].isna(),'balcony'] = dt[dt['balcony'].isna()].apply(lambda x:modeImputation(x,dt), axis = 1)"
   ]
  },
  {
   "cell_type": "code",
   "execution_count": 108,
   "id": "2385414e-1a32-46f8-972c-c81b7119d7e3",
   "metadata": {},
   "outputs": [
    {
     "data": {
      "text/plain": [
       "0"
      ]
     },
     "execution_count": 108,
     "metadata": {},
     "output_type": "execute_result"
    }
   ],
   "source": [
    "dt['balcony'].isna().sum()"
   ]
  },
  {
   "cell_type": "code",
   "execution_count": 110,
   "id": "ab8df2d3-7178-47cc-888d-8809aaee56e4",
   "metadata": {},
   "outputs": [
    {
     "data": {
      "text/plain": [
       "balcony\n",
       "3+    1875\n",
       "2     1030\n",
       "3      537\n",
       "1      114\n",
       "0       48\n",
       "Name: count, dtype: int64"
      ]
     },
     "execution_count": 110,
     "metadata": {},
     "output_type": "execute_result"
    }
   ],
   "source": [
    "dt['balcony'].value_counts()"
   ]
  },
  {
   "cell_type": "markdown",
   "id": "c323d766-9415-4690-a78e-ff93585d1d94",
   "metadata": {},
   "source": [
    "# agePossesion"
   ]
  },
  {
   "cell_type": "code",
   "execution_count": 34,
   "id": "6cc3103a-2725-4fc0-8fd6-69a8da8d4bc7",
   "metadata": {},
   "outputs": [
    {
     "data": {
      "text/plain": [
       "agePossesion\n",
       "relatively new property    1893\n",
       "moderatly old property      797\n",
       "new property                558\n",
       "old property                335\n",
       "under construction           21\n",
       "Name: count, dtype: int64"
      ]
     },
     "execution_count": 34,
     "metadata": {},
     "output_type": "execute_result"
    }
   ],
   "source": [
    "dt['agePossesion'].value_counts()"
   ]
  },
  {
   "cell_type": "markdown",
   "id": "c6dddabc-7f7e-4f91-89e6-5052a2fdb867",
   "metadata": {},
   "source": [
    "#  area"
   ]
  },
  {
   "cell_type": "code",
   "execution_count": 37,
   "id": "7cb96b89-2846-4999-a4e5-3f9dbc666e12",
   "metadata": {},
   "outputs": [
    {
     "data": {
      "text/plain": [
       "1235"
      ]
     },
     "execution_count": 37,
     "metadata": {},
     "output_type": "execute_result"
    }
   ],
   "source": [
    "dt['area'].isnull().sum()"
   ]
  },
  {
   "cell_type": "code",
   "execution_count": 39,
   "id": "91585282-8ec1-4bc3-a30c-623c0385e41d",
   "metadata": {},
   "outputs": [],
   "source": [
    "# im dropping thses columns caue they are not needded anymore \n",
    "dt.drop(columns = ['superbuilt','carpet','areaToBedRatio','facing'],inplace = True)"
   ]
  },
  {
   "cell_type": "code",
   "execution_count": 41,
   "id": "6549d2e4-59da-4186-94c5-de762b6a75f8",
   "metadata": {},
   "outputs": [
    {
     "data": {
      "text/html": [
       "<div>\n",
       "<style scoped>\n",
       "    .dataframe tbody tr th:only-of-type {\n",
       "        vertical-align: middle;\n",
       "    }\n",
       "\n",
       "    .dataframe tbody tr th {\n",
       "        vertical-align: top;\n",
       "    }\n",
       "\n",
       "    .dataframe thead th {\n",
       "        text-align: right;\n",
       "    }\n",
       "</style>\n",
       "<table border=\"1\" class=\"dataframe\">\n",
       "  <thead>\n",
       "    <tr style=\"text-align: right;\">\n",
       "      <th></th>\n",
       "      <th>society</th>\n",
       "      <th>price</th>\n",
       "      <th>sector</th>\n",
       "      <th>pricePerSqft</th>\n",
       "      <th>propertyType</th>\n",
       "      <th>area</th>\n",
       "      <th>builtup</th>\n",
       "      <th>bedRooms</th>\n",
       "      <th>bathRooms</th>\n",
       "      <th>address</th>\n",
       "      <th>floorNum</th>\n",
       "      <th>agePossesion</th>\n",
       "      <th>balcony</th>\n",
       "      <th>pooja room</th>\n",
       "      <th>servant room</th>\n",
       "      <th>study room</th>\n",
       "      <th>others</th>\n",
       "      <th>store room</th>\n",
       "      <th>furnishType</th>\n",
       "      <th>luxuryScore</th>\n",
       "    </tr>\n",
       "  </thead>\n",
       "  <tbody>\n",
       "    <tr>\n",
       "      <th>1923</th>\n",
       "      <td>sector 47, sector 47, gurgaon</td>\n",
       "      <td>2.70</td>\n",
       "      <td>sector 47</td>\n",
       "      <td>NaN</td>\n",
       "      <td>house</td>\n",
       "      <td>NaN</td>\n",
       "      <td>NaN</td>\n",
       "      <td>3.0</td>\n",
       "      <td>3.0</td>\n",
       "      <td>sector 47, sector 47, gurgaon</td>\n",
       "      <td>3.0</td>\n",
       "      <td>relatively new property</td>\n",
       "      <td>2</td>\n",
       "      <td>0</td>\n",
       "      <td>0</td>\n",
       "      <td>0</td>\n",
       "      <td>0</td>\n",
       "      <td>1</td>\n",
       "      <td>2</td>\n",
       "      <td>111</td>\n",
       "    </tr>\n",
       "    <tr>\n",
       "      <th>838</th>\n",
       "      <td>sector 47, gurgaon</td>\n",
       "      <td>2.75</td>\n",
       "      <td>sector 47</td>\n",
       "      <td>NaN</td>\n",
       "      <td>house</td>\n",
       "      <td>NaN</td>\n",
       "      <td>NaN</td>\n",
       "      <td>3.0</td>\n",
       "      <td>2.0</td>\n",
       "      <td>sector 47, gurgaon</td>\n",
       "      <td>3.0</td>\n",
       "      <td>moderatly old property</td>\n",
       "      <td>1</td>\n",
       "      <td>0</td>\n",
       "      <td>0</td>\n",
       "      <td>0</td>\n",
       "      <td>0</td>\n",
       "      <td>0</td>\n",
       "      <td>2</td>\n",
       "      <td>10</td>\n",
       "    </tr>\n",
       "    <tr>\n",
       "      <th>1693</th>\n",
       "      <td>greenwood city, gurgaon</td>\n",
       "      <td>11.25</td>\n",
       "      <td>sector 45</td>\n",
       "      <td>NaN</td>\n",
       "      <td>house</td>\n",
       "      <td>NaN</td>\n",
       "      <td>NaN</td>\n",
       "      <td>5.0</td>\n",
       "      <td>6.0</td>\n",
       "      <td>greenwood city, gurgaon</td>\n",
       "      <td>3.0</td>\n",
       "      <td>relatively new property</td>\n",
       "      <td>3</td>\n",
       "      <td>1</td>\n",
       "      <td>1</td>\n",
       "      <td>0</td>\n",
       "      <td>0</td>\n",
       "      <td>1</td>\n",
       "      <td>1</td>\n",
       "      <td>190</td>\n",
       "    </tr>\n",
       "    <tr>\n",
       "      <th>980</th>\n",
       "      <td>pioneer park</td>\n",
       "      <td>4.15</td>\n",
       "      <td>sector 61</td>\n",
       "      <td>NaN</td>\n",
       "      <td>flat</td>\n",
       "      <td>NaN</td>\n",
       "      <td>NaN</td>\n",
       "      <td>3.0</td>\n",
       "      <td>4.0</td>\n",
       "      <td>Pioneer Park Sector 61, Gurgaon</td>\n",
       "      <td>8.0</td>\n",
       "      <td>moderatly old property</td>\n",
       "      <td>NaN</td>\n",
       "      <td>0</td>\n",
       "      <td>1</td>\n",
       "      <td>1</td>\n",
       "      <td>0</td>\n",
       "      <td>0</td>\n",
       "      <td>1</td>\n",
       "      <td>32</td>\n",
       "    </tr>\n",
       "    <tr>\n",
       "      <th>1329</th>\n",
       "      <td>sector 45, gurgaon</td>\n",
       "      <td>9.90</td>\n",
       "      <td>sector 45</td>\n",
       "      <td>NaN</td>\n",
       "      <td>house</td>\n",
       "      <td>NaN</td>\n",
       "      <td>NaN</td>\n",
       "      <td>7.0</td>\n",
       "      <td>8.0</td>\n",
       "      <td>sector 45, gurgaon</td>\n",
       "      <td>3.0</td>\n",
       "      <td>moderatly old property</td>\n",
       "      <td>3+</td>\n",
       "      <td>0</td>\n",
       "      <td>1</td>\n",
       "      <td>0</td>\n",
       "      <td>0</td>\n",
       "      <td>1</td>\n",
       "      <td>1</td>\n",
       "      <td>87</td>\n",
       "    </tr>\n",
       "  </tbody>\n",
       "</table>\n",
       "</div>"
      ],
      "text/plain": [
       "                              society  price     sector  pricePerSqft  \\\n",
       "1923    sector 47, sector 47, gurgaon   2.70  sector 47           NaN   \n",
       "838                sector 47, gurgaon   2.75  sector 47           NaN   \n",
       "1693          greenwood city, gurgaon  11.25  sector 45           NaN   \n",
       "980                      pioneer park   4.15  sector 61           NaN   \n",
       "1329               sector 45, gurgaon   9.90  sector 45           NaN   \n",
       "\n",
       "     propertyType  area  builtup  bedRooms  bathRooms  \\\n",
       "1923        house   NaN      NaN       3.0        3.0   \n",
       "838         house   NaN      NaN       3.0        2.0   \n",
       "1693        house   NaN      NaN       5.0        6.0   \n",
       "980          flat   NaN      NaN       3.0        4.0   \n",
       "1329        house   NaN      NaN       7.0        8.0   \n",
       "\n",
       "                              address  floorNum             agePossesion  \\\n",
       "1923    sector 47, sector 47, gurgaon       3.0  relatively new property   \n",
       "838                sector 47, gurgaon       3.0   moderatly old property   \n",
       "1693          greenwood city, gurgaon       3.0  relatively new property   \n",
       "980   Pioneer Park Sector 61, Gurgaon       8.0   moderatly old property   \n",
       "1329               sector 45, gurgaon       3.0   moderatly old property   \n",
       "\n",
       "     balcony  pooja room  servant room  study room  others  store room  \\\n",
       "1923       2           0             0           0       0           1   \n",
       "838        1           0             0           0       0           0   \n",
       "1693       3           1             1           0       0           1   \n",
       "980      NaN           0             1           1       0           0   \n",
       "1329      3+           0             1           0       0           1   \n",
       "\n",
       "      furnishType  luxuryScore  \n",
       "1923            2          111  \n",
       "838             2           10  \n",
       "1693            1          190  \n",
       "980             1           32  \n",
       "1329            1           87  "
      ]
     },
     "execution_count": 41,
     "metadata": {},
     "output_type": "execute_result"
    }
   ],
   "source": [
    "dt[dt['area'].isnull()].sample(5)"
   ]
  },
  {
   "cell_type": "code",
   "execution_count": 43,
   "id": "e4c4690c-8ad4-4c7d-9433-c19045851d14",
   "metadata": {},
   "outputs": [
    {
     "data": {
      "text/plain": [
       "1235"
      ]
     },
     "execution_count": 43,
     "metadata": {},
     "output_type": "execute_result"
    }
   ],
   "source": [
    "((dt['builtup'].isnull()) & (dt['area']).isnull()).sum()"
   ]
  },
  {
   "cell_type": "code",
   "execution_count": 45,
   "id": "59af3d90-4bb7-4b2d-948e-2ee78bc35bbf",
   "metadata": {},
   "outputs": [
    {
     "data": {
      "text/plain": [
       "propertyType\n",
       "flat      193\n",
       "house    1042\n",
       "dtype: int64"
      ]
     },
     "execution_count": 45,
     "metadata": {},
     "output_type": "execute_result"
    }
   ],
   "source": [
    "dt[dt['area'].isnull()].groupby('propertyType').size()"
   ]
  },
  {
   "cell_type": "code",
   "execution_count": 47,
   "id": "5bfd4ceb-67ff-4dfc-9229-db299b395f3b",
   "metadata": {},
   "outputs": [
    {
     "data": {
      "text/plain": [
       "propertyType\n",
       "flat     1999.0\n",
       "house    4500.0\n",
       "Name: area, dtype: float64"
      ]
     },
     "execution_count": 47,
     "metadata": {},
     "output_type": "execute_result"
    }
   ],
   "source": [
    "dt.groupby(['propertyType'])['area'].median()"
   ]
  },
  {
   "cell_type": "code",
   "execution_count": 49,
   "id": "357f21d9-c8bb-4997-9e80-5751a8f25895",
   "metadata": {},
   "outputs": [],
   "source": [
    "def medianBasedInputation(row):\n",
    "    \n",
    "    if pd.isnull(row['area']):\n",
    "    \n",
    "        temp = dt[dt['propertyType']==row['propertyType']]\n",
    "            \n",
    "        pred1 = temp[temp['bedRooms'] == row['bedRooms']]['area'].median()\n",
    "        pred2 = temp[temp['price'] == row['price']]['area'].median()\n",
    "        pred3 = temp[temp['floorNum'] == row['floorNum']]['area'].median()\n",
    "    \n",
    "        preds = [val for val in [pred1,pred2,pred3] if pd.notna(val)]\n",
    "        \n",
    "        return np.median(preds)\n",
    "\n",
    "    else:\n",
    "        \n",
    "        return row['area']\n",
    "    "
   ]
  },
  {
   "cell_type": "code",
   "execution_count": 51,
   "id": "b4d97884-3bc8-4c65-8267-a5999bc24928",
   "metadata": {},
   "outputs": [],
   "source": [
    "dt['area'] = dt.apply(medianBasedInputation , axis = 1)"
   ]
  },
  {
   "cell_type": "code",
   "execution_count": 52,
   "id": "05b322e0-0937-4e57-8cdb-d042138662a2",
   "metadata": {},
   "outputs": [
    {
     "data": {
      "text/plain": [
       "0"
      ]
     },
     "execution_count": 52,
     "metadata": {},
     "output_type": "execute_result"
    }
   ],
   "source": [
    "dt['area'].isnull().sum()"
   ]
  },
  {
   "cell_type": "code",
   "execution_count": 53,
   "id": "9f5dfad0-0b68-4136-bf0d-33113b921412",
   "metadata": {},
   "outputs": [],
   "source": [
    "# just using the old logic to fill in remaining nan values of builtup"
   ]
  },
  {
   "cell_type": "code",
   "execution_count": 54,
   "id": "2f1a2735-4ddf-4a1e-8f84-e545d704f803",
   "metadata": {},
   "outputs": [],
   "source": [
    "def areaTypes(val):\n",
    "    \n",
    "    if val['propertyType'] == 'house':\n",
    "        \n",
    "        val['builtup'] = val['area']\n",
    "        \n",
    "    else:\n",
    "\n",
    "        if val['bedRooms'] == 1:\n",
    "           val['builtup'] = (val['area']*0.70)\n",
    "            \n",
    "        elif val['bedRooms'] == 2:\n",
    "            val['builtup'] = (val['area']*0.75)\n",
    "            \n",
    "        elif val['bedRooms'] == 3:\n",
    "            val['builtup'] = (val['area']*0.80)\n",
    "        \n",
    "        else:\n",
    "            val['builtup'] = (val['area']*0.85)\n",
    "        \n",
    "    return val['builtup']"
   ]
  },
  {
   "cell_type": "code",
   "execution_count": 59,
   "id": "f3f5dc0b-c659-4b2e-8a60-de49ddf8c79a",
   "metadata": {},
   "outputs": [],
   "source": [
    "dt['builtup'] = dt.apply(areaTypes,axis = 1)"
   ]
  },
  {
   "cell_type": "code",
   "execution_count": 61,
   "id": "a4d8cd8f-b1c7-4bdd-8f12-2b15e31dad8a",
   "metadata": {},
   "outputs": [
    {
     "data": {
      "text/plain": [
       "0"
      ]
     },
     "execution_count": 61,
     "metadata": {},
     "output_type": "execute_result"
    }
   ],
   "source": [
    "dt['builtup'].isnull().sum()"
   ]
  },
  {
   "cell_type": "code",
   "execution_count": 63,
   "id": "667f91d3-836a-4fd0-9ea5-f0d473bf0a75",
   "metadata": {},
   "outputs": [
    {
     "name": "stderr",
     "output_type": "stream",
     "text": [
      "/var/folders/gy/lt_77nr13fs5zj9y4gdv7v4r0000gn/T/ipykernel_64228/4136804270.py:1: FutureWarning: A value is trying to be set on a copy of a DataFrame or Series through chained assignment using an inplace method.\n",
      "The behavior will change in pandas 3.0. This inplace method will never work because the intermediate object on which we are setting values always behaves as a copy.\n",
      "\n",
      "For example, when doing 'df[col].method(value, inplace=True)', try using 'df.method({col: value}, inplace=True)' or df[col] = df[col].method(value) instead, to perform the operation inplace on the original object.\n",
      "\n",
      "\n",
      "  dt['pricePerSqft'].fillna(round(((dt['price']*10000000)/dt['area']),2),inplace = True)\n"
     ]
    }
   ],
   "source": [
    "dt['pricePerSqft'].fillna(round(((dt['price']*10000000)/dt['area']),2),inplace = True)"
   ]
  },
  {
   "cell_type": "code",
   "execution_count": 65,
   "id": "ce7573fe-c087-4a2a-862f-bcc4147edb97",
   "metadata": {},
   "outputs": [
    {
     "data": {
      "text/plain": [
       "0"
      ]
     },
     "execution_count": 65,
     "metadata": {},
     "output_type": "execute_result"
    }
   ],
   "source": [
    "dt['pricePerSqft'].isna().sum()"
   ]
  },
  {
   "cell_type": "code",
   "execution_count": 112,
   "id": "96112d65-1bac-4728-acb0-f62b2d6e9a72",
   "metadata": {},
   "outputs": [
    {
     "data": {
      "text/plain": [
       "society         0\n",
       "price           0\n",
       "sector          0\n",
       "pricePerSqft    0\n",
       "propertyType    0\n",
       "area            0\n",
       "builtup         0\n",
       "bedRooms        0\n",
       "bathRooms       0\n",
       "address         0\n",
       "floorNum        0\n",
       "agePossesion    0\n",
       "balcony         0\n",
       "pooja room      0\n",
       "servant room    0\n",
       "study room      0\n",
       "others          0\n",
       "store room      0\n",
       "furnishType     0\n",
       "luxuryScore     0\n",
       "dtype: int64"
      ]
     },
     "execution_count": 112,
     "metadata": {},
     "output_type": "execute_result"
    }
   ],
   "source": [
    "dt.isnull().sum()"
   ]
  },
  {
   "cell_type": "code",
   "execution_count": null,
   "id": "14f389ae-a18a-4800-a54d-732d4b34fd79",
   "metadata": {},
   "outputs": [],
   "source": []
  },
  {
   "cell_type": "code",
   "execution_count": 114,
   "id": "ed515e8b-d6c4-4f35-8c78-6149e11ce69d",
   "metadata": {},
   "outputs": [],
   "source": [
    "dt.to_csv('properties-cleaned-v5.csv' , index = False)"
   ]
  },
  {
   "cell_type": "code",
   "execution_count": null,
   "id": "12be7c7e-7d8f-4558-98a7-7c00512ac1c8",
   "metadata": {},
   "outputs": [],
   "source": []
  }
 ],
 "metadata": {
  "kernelspec": {
   "display_name": "Python [conda env:anaconda3]",
   "language": "python",
   "name": "conda-env-anaconda3-py"
  },
  "language_info": {
   "codemirror_mode": {
    "name": "ipython",
    "version": 3
   },
   "file_extension": ".py",
   "mimetype": "text/x-python",
   "name": "python",
   "nbconvert_exporter": "python",
   "pygments_lexer": "ipython3",
   "version": "3.12.7"
  }
 },
 "nbformat": 4,
 "nbformat_minor": 5
}
