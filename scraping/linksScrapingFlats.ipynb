{
 "cells": [
  {
   "cell_type": "code",
   "execution_count": 1,
   "id": "0f49cb4b-4c7b-4723-a2ac-3b5b1a95ffd4",
   "metadata": {},
   "outputs": [],
   "source": [
    "import requests as rq\n",
    "import pandas as pd\n",
    "import numpy as np \n",
    "import time\n",
    "from bs4 import BeautifulSoup as bs\n",
    "import random\n",
    "from selenium import webdriver\n",
    "from selenium.webdriver.chrome.service import Service\n",
    "from selenium.webdriver.chrome.options import Options\n",
    "from selenium.webdriver.common.by import By\n",
    "from selenium.webdriver.common.action_chains import ActionChains"
   ]
  },
  {
   "cell_type": "code",
   "execution_count": 2,
   "id": "79945958-01a7-43a0-8dec-3b82d4bfc1a7",
   "metadata": {},
   "outputs": [],
   "source": [
    "name , society , price , area , areaWithType , bedRooms , bathRooms  = [],[],[],[],[],[],[]\n",
    "additionalRooms , address , floorNum , facing , agePossesion , nearbyLocation = [],[],[],[],[],[]\n",
    "description , furnishDetails , features , rating , propertyId ,links = [],[],[],[],[],[]"
   ]
  },
  {
   "cell_type": "code",
   "execution_count": 3,
   "id": "b3acca35-bfc2-424f-a945-b7025c3eaf8f",
   "metadata": {},
   "outputs": [],
   "source": [
    "options = webdriver.ChromeOptions()\n",
    "\n",
    "options.add_argument(\"--disable-blink-features=AutomationControlled\")  # Prevents detection as bot\n",
    "options.add_argument(\"--start-maximized\")  # Opens browser in full screen\n",
    "#options.add_argument(\"--incognito\")  # Opens browser in Incognito mode\n",
    "options.add_argument(\"--disable-popup-blocking\")  # Prevents blocking of popups\n",
    "options.add_argument(\"--disable-infobars\")  # Removes 'Chrome is being controlled by automated test software'\n",
    "options.add_argument(\"--disable-gpu\")  # Reduces detection based on GPU usage\n",
    "options.add_argument(\"--no-sandbox\")  # Bypass OS security model\n",
    "options.add_argument(\"user-agent=Mozilla/5.0 (Windows NT 10.0; Win64; x64) AppleWebKit/537.36 (KHTML, like Gecko) Chrome/120.0.0.0 Safari/537.36\")\n",
    "options.add_experimental_option(\"prefs\", {\"profile.managed_default_content_settings.images\": 2})"
   ]
  },
  {
   "cell_type": "code",
   "execution_count": 4,
   "id": "75e2222e-9cfe-4b41-89aa-a4c2a59d5915",
   "metadata": {},
   "outputs": [
    {
     "data": {
      "text/plain": [
       "\"\\ns = Service(service = '/Users/sehajsukhleensingh/.wdm/drivers/chromedriver/mac64/133.0.6943.126/chromedriver-mac-arm64/chromedriver')\\ndriver = webdriver.Chrome(service = s,options = options )\\nactions = ActionChains(driver)\\n\""
      ]
     },
     "execution_count": 4,
     "metadata": {},
     "output_type": "execute_result"
    }
   ],
   "source": [
    "'''\n",
    "s = Service(service = '/Users/sehajsukhleensingh/.wdm/drivers/chromedriver/mac64/133.0.6943.126/chromedriver-mac-arm64/chromedriver')\n",
    "driver = webdriver.Chrome(service = s,options = options )\n",
    "actions = ActionChains(driver)\n",
    "'''"
   ]
  },
  {
   "cell_type": "code",
   "execution_count": 5,
   "id": "a126ab64-736b-498a-a1e8-4662df539d1e",
   "metadata": {},
   "outputs": [
    {
     "data": {
      "text/plain": [
       "'\\npageNumber = 6\\nstart = pageNumber\\nend = 100\\nwhile start < end:\\n    driver.get(f\\'https://www.99acres.com/flats-in-gurgaon-ffid-page-{start}?search_type=QS&search_location=SH&verified=Y\\')\\n    time.sleep(1.5)\\n    old_height = driver.execute_script(\\'return document.body.scrollHeight\\')\\n    while True:\\n        \\n        driver.execute_script(\\'window.scrollTo(0,document.body.scrollHeight)\\')\\n        time.sleep(2)\\n        \\n        new_height = driver.execute_script(\\'return document.body.scrollHeight\\')\\n        if new_height == old_height:\\n            break\\n        old_height = new_height \\n    \\n    html = driver.page_source\\n    soup = bs(html,\\'lxml\\')\\n    containers = soup.find_all(\\'div\\',class_=\\'tupleNew__innerCont\\')\\n    \\n    for item in containers:\\n        try:\\n            link = item.find(\\'a\\', class_ = \\'tupleNew__propertyHeading ellipsis\\').get(\\'href\\')\\n            links.append(link)\\n            try:\\n                name.append(item.find(\\'h2\\',class_ = \\'tupleNew__propType\\').get_text(strip = True))\\n            except:\\n                name.append(np.nan)\\n            try:\\n                rating.append(item.find(\\'span\\',class_ = \\'tupleNew__locRatings\\').find(\\'span\\').get_text(strip = True))\\n            except:\\n                rating.append(np.nan)\\n        except:\\n            print(\"couldn\\'t find the link ...\")\\n    start += 1\\ndriver.quit()\\n'"
      ]
     },
     "execution_count": 5,
     "metadata": {},
     "output_type": "execute_result"
    }
   ],
   "source": [
    "'''\n",
    "pageNumber = 6\n",
    "start = pageNumber\n",
    "end = 100\n",
    "while start < end:\n",
    "    driver.get(f'https://www.99acres.com/flats-in-gurgaon-ffid-page-{start}?search_type=QS&search_location=SH&verified=Y')\n",
    "    time.sleep(1.5)\n",
    "    old_height = driver.execute_script('return document.body.scrollHeight')\n",
    "    while True:\n",
    "        \n",
    "        driver.execute_script('window.scrollTo(0,document.body.scrollHeight)')\n",
    "        time.sleep(2)\n",
    "        \n",
    "        new_height = driver.execute_script('return document.body.scrollHeight')\n",
    "        if new_height == old_height:\n",
    "            break\n",
    "        old_height = new_height \n",
    "    \n",
    "    html = driver.page_source\n",
    "    soup = bs(html,'lxml')\n",
    "    containers = soup.find_all('div',class_='tupleNew__innerCont')\n",
    "    \n",
    "    for item in containers:\n",
    "        try:\n",
    "            link = item.find('a', class_ = 'tupleNew__propertyHeading ellipsis').get('href')\n",
    "            links.append(link)\n",
    "            try:\n",
    "                name.append(item.find('h2',class_ = 'tupleNew__propType').get_text(strip = True))\n",
    "            except:\n",
    "                name.append(np.nan)\n",
    "            try:\n",
    "                rating.append(item.find('span',class_ = 'tupleNew__locRatings').find('span').get_text(strip = True))\n",
    "            except:\n",
    "                rating.append(np.nan)\n",
    "        except:\n",
    "            print(\"couldn't find the link ...\")\n",
    "    start += 1\n",
    "driver.quit()\n",
    "'''"
   ]
  },
  {
   "cell_type": "code",
   "execution_count": 6,
   "id": "49dbd994-ac02-4b57-b1b6-798d85a4ee05",
   "metadata": {},
   "outputs": [],
   "source": [
    "#len(name),len(rating),len(links)"
   ]
  },
  {
   "cell_type": "code",
   "execution_count": 7,
   "id": "57e02566-098c-4c8e-9a58-613f9320e09e",
   "metadata": {},
   "outputs": [],
   "source": [
    "#dt = pd.DataFrame({'propertName':name,'links':links,'rating':rating})"
   ]
  },
  {
   "cell_type": "code",
   "execution_count": 8,
   "id": "4b383216-2ed9-496a-9e0a-d8ab589035aa",
   "metadata": {},
   "outputs": [],
   "source": [
    "#dt.to_csv('99acres-gurgaon.csv')"
   ]
  }
 ],
 "metadata": {
  "kernelspec": {
   "display_name": "Python [conda env:anaconda3]",
   "language": "python",
   "name": "conda-env-anaconda3-py"
  },
  "language_info": {
   "codemirror_mode": {
    "name": "ipython",
    "version": 3
   },
   "file_extension": ".py",
   "mimetype": "text/x-python",
   "name": "python",
   "nbconvert_exporter": "python",
   "pygments_lexer": "ipython3",
   "version": "3.12.7"
  }
 },
 "nbformat": 4,
 "nbformat_minor": 5
}
