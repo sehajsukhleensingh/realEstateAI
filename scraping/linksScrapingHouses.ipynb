{
 "cells": [
  {
   "cell_type": "code",
   "execution_count": 1,
   "id": "040eae57-215c-46cc-9f61-a2c87dad1ff0",
   "metadata": {},
   "outputs": [],
   "source": [
    "import time \n",
    "from selenium import webdriver\n",
    "from selenium.webdriver.chrome.service import Service \n",
    "from selenium.webdriver.common.by import By\n",
    "from selenium.webdriver.chrome.options import Options \n",
    "import pandas as pd\n",
    "import numpy as np\n",
    "from bs4 import BeautifulSoup as bs"
   ]
  },
  {
   "cell_type": "code",
   "execution_count": 5,
   "id": "6e3bc67a-7831-4be8-a730-3c28a40d63cb",
   "metadata": {},
   "outputs": [],
   "source": [
    "options = webdriver.ChromeOptions()\n",
    "\n",
    "options.add_argument(\"--disable-blink-features=AutomationControlled\")  # Prevents detection as bot\n",
    "options.add_argument(\"--start-maximized\")  # Opens browser in full screen\n",
    "#options.add_argument(\"--incognito\")  # Opens browser in Incognito mode\n",
    "options.add_argument(\"--disable-popup-blocking\")  # Prevents blocking of popups\n",
    "options.add_argument(\"--disable-infobars\")  # Removes 'Chrome is being controlled by automated test software'\n",
    "options.add_argument(\"--disable-gpu\")  # Reduces detection based on GPU usage\n",
    "options.add_argument(\"--no-sandbox\")  # Bypass OS security model\n",
    "options.add_argument(\"user-agent=Mozilla/5.0 (Windows NT 10.0; Win64; x64) AppleWebKit/537.36 (KHTML, like Gecko) Chrome/120.0.0.0 Safari/537.36\")\n",
    "options.add_experimental_option(\"prefs\", {\"profile.managed_default_content_settings.images\": 2})"
   ]
  },
  {
   "cell_type": "code",
   "execution_count": 7,
   "id": "c4f50832-1774-4b9b-b394-6eba408ee2ce",
   "metadata": {},
   "outputs": [],
   "source": [
    "s = Service(service = '/Users/sehajsukhleensingh/.wdm/drivers/chromedriver/mac64/133.0.6943.126/chromedriver-mac-arm64/chromedriver')"
   ]
  },
  {
   "cell_type": "code",
   "execution_count": 9,
   "id": "6f9c4119-d743-4012-a72b-1ee9387e1d04",
   "metadata": {},
   "outputs": [],
   "source": [
    "data = []"
   ]
  },
  {
   "cell_type": "code",
   "execution_count": 27,
   "id": "8725b0f5-351f-4300-b1cc-25874c07d753",
   "metadata": {
    "scrolled": true
   },
   "outputs": [
    {
     "name": "stdout",
     "output_type": "stream",
     "text": [
      "scraped page : 92\n",
      "data items on page: 92 -> 26\n",
      "scraped page : 93\n",
      "data items on page: 93 -> 26\n",
      "scraped page : 94\n",
      "data items on page: 94 -> 26\n",
      "scraped page : 95\n",
      "data items on page: 95 -> 26\n",
      "scraped page : 96\n",
      "data items on page: 96 -> 26\n",
      "scraped page : 97\n",
      "data items on page: 97 -> 26\n",
      "scraped page : 98\n",
      "data items on page: 98 -> 26\n",
      "scraped page : 99\n",
      "data items on page: 99 -> 26\n",
      "scraped page : 100\n",
      "data items on page: 100 -> 26\n",
      "scraped page : 101\n",
      "data items on page: 101 -> 26\n",
      "scraped page : 102\n",
      "data items on page: 102 -> 26\n",
      "scraped page : 103\n",
      "data items on page: 103 -> 26\n",
      "scraped page : 104\n",
      "data items on page: 104 -> 24\n",
      "scraped page : 105\n",
      "data items on page: 105 -> 0\n"
     ]
    }
   ],
   "source": [
    "driver = webdriver.Chrome(service = s,options = options )\n",
    "num = 92\n",
    "start = num\n",
    "end = num + 13\n",
    "while start <= end:\n",
    "    driver.get(f'https://www.99acres.com/search/property/buy?city=8&res_com=R&preference=S&property_type=2&page={start}')\n",
    "    time.sleep(2)\n",
    "    \n",
    "    oldH = driver.execute_script('return document.body.scrollHeight')\n",
    "    \n",
    "    while True:\n",
    "    \n",
    "        driver.execute_script('window.scrollTo(0,document.body.scrollHeight)')\n",
    "        time.sleep(1)\n",
    "    \n",
    "        newH = driver.execute_script('return document.body.scrollHeight')\n",
    "    \n",
    "        if newH  == oldH:\n",
    "            html = driver.page_source\n",
    "            break\n",
    "        oldH = newH\n",
    "    \n",
    "    soup = bs(html,'lxml')\n",
    "    container = soup.find_all('div' , class_ = 'tupleNew__innerCont')\n",
    "    \n",
    "    for i in container:\n",
    "        \n",
    "        try:\n",
    "            link = i.find('a',class_ ='tupleNew__propertyHeading ellipsis').get('href')\n",
    "    \n",
    "            try:\n",
    "                name = i.find('h2',class_= 'tupleNew__propType').get_text()\n",
    "            except:\n",
    "                pass\n",
    "            try:\n",
    "                price = i.find('div',class_ = 'tupleNew__priceValWrap').find('span').text\n",
    "            except:\n",
    "                pass\n",
    "                \n",
    "        except:\n",
    "            print('couldnt find the link')\n",
    "            \n",
    "        finally:\n",
    "            dt = {'name':name , 'price':price , 'link':link}\n",
    "            data.append(dt)\n",
    "            \n",
    "    \n",
    "    print(f'scraped page : {start}')\n",
    "    print(f'data items on page: {start} -> {len(container)}')\n",
    "    \n",
    "    start += 1\n",
    "    \n",
    "driver.quit()"
   ]
  },
  {
   "cell_type": "code",
   "execution_count": 29,
   "id": "60c7a76b-c8d6-4d78-8787-75e58308d77d",
   "metadata": {},
   "outputs": [
    {
     "data": {
      "text/plain": [
       "3582"
      ]
     },
     "execution_count": 29,
     "metadata": {},
     "output_type": "execute_result"
    }
   ],
   "source": [
    "len(data)"
   ]
  },
  {
   "cell_type": "code",
   "execution_count": 31,
   "id": "623162f2-2a27-4750-8a28-90bbaee6a5c9",
   "metadata": {},
   "outputs": [],
   "source": [
    "df = pd.DataFrame(data)"
   ]
  },
  {
   "cell_type": "code",
   "execution_count": 33,
   "id": "a731bf7d-8687-4da0-87f7-5ba68bbfff5c",
   "metadata": {},
   "outputs": [
    {
     "data": {
      "text/html": [
       "<div>\n",
       "<style scoped>\n",
       "    .dataframe tbody tr th:only-of-type {\n",
       "        vertical-align: middle;\n",
       "    }\n",
       "\n",
       "    .dataframe tbody tr th {\n",
       "        vertical-align: top;\n",
       "    }\n",
       "\n",
       "    .dataframe thead th {\n",
       "        text-align: right;\n",
       "    }\n",
       "</style>\n",
       "<table border=\"1\" class=\"dataframe\">\n",
       "  <thead>\n",
       "    <tr style=\"text-align: right;\">\n",
       "      <th></th>\n",
       "      <th>name</th>\n",
       "      <th>price</th>\n",
       "      <th>link</th>\n",
       "    </tr>\n",
       "  </thead>\n",
       "  <tbody>\n",
       "    <tr>\n",
       "      <th>0</th>\n",
       "      <td>3 Bedroom House in Sector 4, Gurgaon</td>\n",
       "      <td>₹3.4 Cr</td>\n",
       "      <td>https://www.99acres.com/3-bhk-bedroom-independ...</td>\n",
       "    </tr>\n",
       "    <tr>\n",
       "      <th>1</th>\n",
       "      <td>3 Bedroom House in Sector 4, Gurgaon</td>\n",
       "      <td>₹3.2 Cr</td>\n",
       "      <td>https://www.99acres.com/3-bhk-bedroom-independ...</td>\n",
       "    </tr>\n",
       "    <tr>\n",
       "      <th>2</th>\n",
       "      <td>3 Bedroom House in New Colony, Gurgaon</td>\n",
       "      <td>₹3.25 Cr</td>\n",
       "      <td>https://www.99acres.com/3-bhk-bedroom-independ...</td>\n",
       "    </tr>\n",
       "    <tr>\n",
       "      <th>3</th>\n",
       "      <td>4 Bedroom House in Sector 9, Gurgaon</td>\n",
       "      <td>₹6 Cr</td>\n",
       "      <td>https://www.99acres.com/4-bhk-bedroom-independ...</td>\n",
       "    </tr>\n",
       "    <tr>\n",
       "      <th>4</th>\n",
       "      <td>7 Bedroom House in DLF Phase 2, Gurgaon</td>\n",
       "      <td>₹22.5 Cr</td>\n",
       "      <td>https://www.99acres.com/7-bhk-bedroom-independ...</td>\n",
       "    </tr>\n",
       "    <tr>\n",
       "      <th>...</th>\n",
       "      <td>...</td>\n",
       "      <td>...</td>\n",
       "      <td>...</td>\n",
       "    </tr>\n",
       "    <tr>\n",
       "      <th>3577</th>\n",
       "      <td>12 Bedroom House in Rajiv Chowk, Gurgaon</td>\n",
       "      <td>₹2.05 Cr</td>\n",
       "      <td>https://www.99acres.com/12-bhk-bedroom-indepen...</td>\n",
       "    </tr>\n",
       "    <tr>\n",
       "      <th>3578</th>\n",
       "      <td>5 Bedroom House in DLF Phase 1, Gurgaon</td>\n",
       "      <td>₹12 Cr</td>\n",
       "      <td>https://www.99acres.com/5-bhk-bedroom-independ...</td>\n",
       "    </tr>\n",
       "    <tr>\n",
       "      <th>3579</th>\n",
       "      <td>4 Bedroom House in Sector 109, Gurgaon</td>\n",
       "      <td>₹12 Cr</td>\n",
       "      <td>https://www.99acres.com/4-bhk-bedroom-independ...</td>\n",
       "    </tr>\n",
       "    <tr>\n",
       "      <th>3580</th>\n",
       "      <td>7 Bedroom House in DLF Phase 1, Gurgaon</td>\n",
       "      <td>₹37 Cr</td>\n",
       "      <td>https://www.99acres.com/7-bhk-bedroom-independ...</td>\n",
       "    </tr>\n",
       "    <tr>\n",
       "      <th>3581</th>\n",
       "      <td>4 Bedroom House in DLF Phase 3, Gurgaon</td>\n",
       "      <td>₹4.2 Cr</td>\n",
       "      <td>https://www.99acres.com/4-bhk-bedroom-independ...</td>\n",
       "    </tr>\n",
       "  </tbody>\n",
       "</table>\n",
       "<p>3582 rows × 3 columns</p>\n",
       "</div>"
      ],
      "text/plain": [
       "                                          name     price  \\\n",
       "0         3 Bedroom House in Sector 4, Gurgaon   ₹3.4 Cr   \n",
       "1         3 Bedroom House in Sector 4, Gurgaon   ₹3.2 Cr   \n",
       "2       3 Bedroom House in New Colony, Gurgaon  ₹3.25 Cr   \n",
       "3         4 Bedroom House in Sector 9, Gurgaon     ₹6 Cr   \n",
       "4      7 Bedroom House in DLF Phase 2, Gurgaon  ₹22.5 Cr   \n",
       "...                                        ...       ...   \n",
       "3577  12 Bedroom House in Rajiv Chowk, Gurgaon  ₹2.05 Cr   \n",
       "3578   5 Bedroom House in DLF Phase 1, Gurgaon    ₹12 Cr   \n",
       "3579    4 Bedroom House in Sector 109, Gurgaon    ₹12 Cr   \n",
       "3580   7 Bedroom House in DLF Phase 1, Gurgaon    ₹37 Cr   \n",
       "3581   4 Bedroom House in DLF Phase 3, Gurgaon   ₹4.2 Cr   \n",
       "\n",
       "                                                   link  \n",
       "0     https://www.99acres.com/3-bhk-bedroom-independ...  \n",
       "1     https://www.99acres.com/3-bhk-bedroom-independ...  \n",
       "2     https://www.99acres.com/3-bhk-bedroom-independ...  \n",
       "3     https://www.99acres.com/4-bhk-bedroom-independ...  \n",
       "4     https://www.99acres.com/7-bhk-bedroom-independ...  \n",
       "...                                                 ...  \n",
       "3577  https://www.99acres.com/12-bhk-bedroom-indepen...  \n",
       "3578  https://www.99acres.com/5-bhk-bedroom-independ...  \n",
       "3579  https://www.99acres.com/4-bhk-bedroom-independ...  \n",
       "3580  https://www.99acres.com/7-bhk-bedroom-independ...  \n",
       "3581  https://www.99acres.com/4-bhk-bedroom-independ...  \n",
       "\n",
       "[3582 rows x 3 columns]"
      ]
     },
     "execution_count": 33,
     "metadata": {},
     "output_type": "execute_result"
    }
   ],
   "source": [
    "df"
   ]
  },
  {
   "cell_type": "code",
   "execution_count": 37,
   "id": "1a9bf2fb-6e50-4102-a714-494e757fd028",
   "metadata": {},
   "outputs": [],
   "source": [
    "df = df[~df.duplicated()]"
   ]
  },
  {
   "cell_type": "code",
   "execution_count": 39,
   "id": "e3cea974-80b8-4411-b6d9-922b89608499",
   "metadata": {},
   "outputs": [
    {
     "data": {
      "text/plain": [
       "0"
      ]
     },
     "execution_count": 39,
     "metadata": {},
     "output_type": "execute_result"
    }
   ],
   "source": [
    "df.duplicated().sum()"
   ]
  },
  {
   "cell_type": "code",
   "execution_count": 41,
   "id": "36e064cd-7f49-4102-81d3-5510971e2a01",
   "metadata": {},
   "outputs": [],
   "source": [
    "df.to_csv('links-gurgaon-homes.csv')"
   ]
  },
  {
   "cell_type": "code",
   "execution_count": null,
   "id": "ee54d4ce-6ace-4307-8129-77c09c50733b",
   "metadata": {},
   "outputs": [],
   "source": []
  }
 ],
 "metadata": {
  "kernelspec": {
   "display_name": "Python [conda env:anaconda3]",
   "language": "python",
   "name": "conda-env-anaconda3-py"
  },
  "language_info": {
   "codemirror_mode": {
    "name": "ipython",
    "version": 3
   },
   "file_extension": ".py",
   "mimetype": "text/x-python",
   "name": "python",
   "nbconvert_exporter": "python",
   "pygments_lexer": "ipython3",
   "version": "3.12.7"
  }
 },
 "nbformat": 4,
 "nbformat_minor": 5
}
