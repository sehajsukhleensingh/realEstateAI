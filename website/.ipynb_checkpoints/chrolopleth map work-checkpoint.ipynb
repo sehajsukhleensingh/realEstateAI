{
 "cells": [
  {
   "cell_type": "code",
   "execution_count": 28,
   "id": "7a184119-a09e-403f-bc7f-5d1faf092a23",
   "metadata": {},
   "outputs": [],
   "source": [
    "import pandas as pd\n",
    "import numpy as np \n",
    "import plotly as pt"
   ]
  },
  {
   "cell_type": "code",
   "execution_count": 30,
   "id": "8177c3f0-4aa0-48e7-9321-6294469c73fc",
   "metadata": {},
   "outputs": [],
   "source": [
    "dt = pd.read_csv('dataset-v6.csv')"
   ]
  },
  {
   "cell_type": "code",
   "execution_count": 34,
   "id": "6ed91ef5-0009-4a57-9fa9-65e24de91db0",
   "metadata": {},
   "outputs": [],
   "source": [
    "dt.drop(columns = 'Unnamed: 0' , inplace = True)"
   ]
  },
  {
   "cell_type": "code",
   "execution_count": 38,
   "id": "73eb522c-c0b8-450d-9ec6-8a8a46d736ce",
   "metadata": {},
   "outputs": [],
   "source": [
    "dt['pricePerSqft'] = round((dt['Y']*10000000)/dt['builtup'],2)"
   ]
  },
  {
   "cell_type": "code",
   "execution_count": 42,
   "id": "d6a24e7d-1c1e-4ff3-9b1b-26ee5e2c9ebd",
   "metadata": {},
   "outputs": [
    {
     "data": {
      "text/html": [
       "<div>\n",
       "<style scoped>\n",
       "    .dataframe tbody tr th:only-of-type {\n",
       "        vertical-align: middle;\n",
       "    }\n",
       "\n",
       "    .dataframe tbody tr th {\n",
       "        vertical-align: top;\n",
       "    }\n",
       "\n",
       "    .dataframe thead th {\n",
       "        text-align: right;\n",
       "    }\n",
       "</style>\n",
       "<table border=\"1\" class=\"dataframe\">\n",
       "  <thead>\n",
       "    <tr style=\"text-align: right;\">\n",
       "      <th></th>\n",
       "      <th>sector</th>\n",
       "      <th>propertyType</th>\n",
       "      <th>builtup</th>\n",
       "      <th>bedRooms</th>\n",
       "      <th>bathRooms</th>\n",
       "      <th>agePossesion</th>\n",
       "      <th>balcony</th>\n",
       "      <th>pooja room</th>\n",
       "      <th>servant room</th>\n",
       "      <th>study room</th>\n",
       "      <th>others</th>\n",
       "      <th>store room</th>\n",
       "      <th>luxCat</th>\n",
       "      <th>heightCat</th>\n",
       "      <th>Y</th>\n",
       "      <th>pricePerSqft</th>\n",
       "    </tr>\n",
       "  </thead>\n",
       "  <tbody>\n",
       "    <tr>\n",
       "      <th>2378</th>\n",
       "      <td>79</td>\n",
       "      <td>1.0</td>\n",
       "      <td>1469.0</td>\n",
       "      <td>2.0</td>\n",
       "      <td>2.0</td>\n",
       "      <td>1.0</td>\n",
       "      <td>2.0</td>\n",
       "      <td>0</td>\n",
       "      <td>0</td>\n",
       "      <td>1</td>\n",
       "      <td>0</td>\n",
       "      <td>0</td>\n",
       "      <td>2.0</td>\n",
       "      <td>2.0</td>\n",
       "      <td>1.80</td>\n",
       "      <td>12253.23</td>\n",
       "    </tr>\n",
       "    <tr>\n",
       "      <th>98</th>\n",
       "      <td>102</td>\n",
       "      <td>0.0</td>\n",
       "      <td>1026.0</td>\n",
       "      <td>2.0</td>\n",
       "      <td>2.0</td>\n",
       "      <td>1.0</td>\n",
       "      <td>4.0</td>\n",
       "      <td>0</td>\n",
       "      <td>0</td>\n",
       "      <td>0</td>\n",
       "      <td>0</td>\n",
       "      <td>0</td>\n",
       "      <td>1.0</td>\n",
       "      <td>0.0</td>\n",
       "      <td>1.91</td>\n",
       "      <td>18615.98</td>\n",
       "    </tr>\n",
       "    <tr>\n",
       "      <th>3454</th>\n",
       "      <td>104</td>\n",
       "      <td>0.0</td>\n",
       "      <td>1162.5</td>\n",
       "      <td>2.0</td>\n",
       "      <td>2.0</td>\n",
       "      <td>3.0</td>\n",
       "      <td>2.0</td>\n",
       "      <td>0</td>\n",
       "      <td>0</td>\n",
       "      <td>0</td>\n",
       "      <td>0</td>\n",
       "      <td>0</td>\n",
       "      <td>1.0</td>\n",
       "      <td>1.0</td>\n",
       "      <td>2.00</td>\n",
       "      <td>17204.30</td>\n",
       "    </tr>\n",
       "  </tbody>\n",
       "</table>\n",
       "</div>"
      ],
      "text/plain": [
       "      sector  propertyType  builtup  bedRooms  bathRooms  agePossesion  \\\n",
       "2378      79           1.0   1469.0       2.0        2.0           1.0   \n",
       "98       102           0.0   1026.0       2.0        2.0           1.0   \n",
       "3454     104           0.0   1162.5       2.0        2.0           3.0   \n",
       "\n",
       "      balcony  pooja room  servant room  study room  others  store room  \\\n",
       "2378      2.0           0             0           1       0           0   \n",
       "98        4.0           0             0           0       0           0   \n",
       "3454      2.0           0             0           0       0           0   \n",
       "\n",
       "      luxCat  heightCat     Y  pricePerSqft  \n",
       "2378     2.0        2.0  1.80      12253.23  \n",
       "98       1.0        0.0  1.91      18615.98  \n",
       "3454     1.0        1.0  2.00      17204.30  "
      ]
     },
     "execution_count": 42,
     "metadata": {},
     "output_type": "execute_result"
    }
   ],
   "source": [
    "dt.sample(3)"
   ]
  },
  {
   "cell_type": "code",
   "execution_count": null,
   "id": "2c3f649d-3819-418b-8308-d2101aede9d8",
   "metadata": {},
   "outputs": [],
   "source": []
  },
  {
   "cell_type": "code",
   "execution_count": null,
   "id": "9062214e-6eb4-4880-838b-8b67f15d68db",
   "metadata": {},
   "outputs": [],
   "source": []
  }
 ],
 "metadata": {
  "kernelspec": {
   "display_name": "Python [conda env:anaconda3]",
   "language": "python",
   "name": "conda-env-anaconda3-py"
  },
  "language_info": {
   "codemirror_mode": {
    "name": "ipython",
    "version": 3
   },
   "file_extension": ".py",
   "mimetype": "text/x-python",
   "name": "python",
   "nbconvert_exporter": "python",
   "pygments_lexer": "ipython3",
   "version": "3.12.7"
  }
 },
 "nbformat": 4,
 "nbformat_minor": 5
}
